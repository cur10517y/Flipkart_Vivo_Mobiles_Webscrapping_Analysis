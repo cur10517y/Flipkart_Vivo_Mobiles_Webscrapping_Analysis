{
 "cells": [
  {
   "cell_type": "code",
   "execution_count": 1,
   "id": "be6e1243",
   "metadata": {},
   "outputs": [],
   "source": [
    "import pandas as pd\n",
    "import numpy as np\n",
    "import warnings\n",
    "warnings.filterwarnings('ignore')"
   ]
  },
  {
   "cell_type": "code",
   "execution_count": 2,
   "id": "e5466c7f",
   "metadata": {},
   "outputs": [],
   "source": [
    "from bs4 import BeautifulSoup\n",
    "from requests import get\n",
    "import urllib3"
   ]
  },
  {
   "cell_type": "code",
   "execution_count": 3,
   "id": "f8ad5128",
   "metadata": {},
   "outputs": [
    {
     "data": {
      "text/plain": [
       "<Response [200]>"
      ]
     },
     "execution_count": 3,
     "metadata": {},
     "output_type": "execute_result"
    }
   ],
   "source": [
    "url1 = \"https://www.flipkart.com/search?q=vivo&otracker=search&otracker1=search&marketplace=FLIPKART&as-show=on&as=off\"\n",
    "\n",
    "connect = get(url1)\n",
    "\n",
    "connect"
   ]
  },
  {
   "cell_type": "code",
   "execution_count": 4,
   "id": "c2446a3f",
   "metadata": {},
   "outputs": [],
   "source": [
    "bs4_obj = BeautifulSoup(connect.text, 'html.parser')"
   ]
  },
  {
   "cell_type": "code",
   "execution_count": 5,
   "id": "097de899",
   "metadata": {},
   "outputs": [
    {
     "data": {
      "text/plain": [
       "24"
      ]
     },
     "execution_count": 5,
     "metadata": {},
     "output_type": "execute_result"
    }
   ],
   "source": [
    "# one full phone container detail\n",
    "master_containers = bs4_obj.find_all('div', class_ = \"_2kHMtA\")\n",
    "\n",
    "len(master_containers)"
   ]
  },
  {
   "cell_type": "code",
   "execution_count": 6,
   "id": "85fdb5da",
   "metadata": {},
   "outputs": [
    {
     "data": {
      "text/plain": [
       "'vivo T2x 5G (Black Gladiator, 128 GB)'"
      ]
     },
     "execution_count": 6,
     "metadata": {},
     "output_type": "execute_result"
    }
   ],
   "source": [
    "# name of phone\n",
    "master_containers[0].find('div', class_ = \"_4rR01T\").text"
   ]
  },
  {
   "cell_type": "code",
   "execution_count": 7,
   "id": "d56cee67",
   "metadata": {},
   "outputs": [
    {
     "data": {
      "text/plain": [
       "'₹14,999'"
      ]
     },
     "execution_count": 7,
     "metadata": {},
     "output_type": "execute_result"
    }
   ],
   "source": [
    "# flipkart price\n",
    "master_containers[0].find('div', class_ = \"_30jeq3 _1_WHN1\").text"
   ]
  },
  {
   "cell_type": "code",
   "execution_count": 8,
   "id": "dacb007e",
   "metadata": {},
   "outputs": [
    {
     "data": {
      "text/plain": [
       "'4.3'"
      ]
     },
     "execution_count": 8,
     "metadata": {},
     "output_type": "execute_result"
    }
   ],
   "source": [
    "# rating\n",
    "master_containers[0].find('div', class_ = \"_3LWZlK\").text"
   ]
  },
  {
   "cell_type": "code",
   "execution_count": 9,
   "id": "e349afc6",
   "metadata": {},
   "outputs": [
    {
     "data": {
      "text/plain": [
       "'₹20,999'"
      ]
     },
     "execution_count": 9,
     "metadata": {},
     "output_type": "execute_result"
    }
   ],
   "source": [
    "# actual price\n",
    "master_containers[0].find('div', class_ = \"_3I9_wc _27UcVY\").text"
   ]
  },
  {
   "cell_type": "code",
   "execution_count": 10,
   "id": "02568881",
   "metadata": {},
   "outputs": [],
   "source": [
    "# Lets scrap the data from first 8 pages of flipkart url for vivo phones\n",
    "\n",
    "# Lets create the empty list\n",
    "\n",
    "phone_name = []\n",
    "flipkart_price = []\n",
    "rating = []\n",
    "actual_price = []\n",
    "\n",
    "# First for loop to create dynamic URL\n",
    "\n",
    "for x in range (1,9):\n",
    "    \n",
    "    # STEP 1: Create URL\n",
    "    \n",
    "    url = \"https://www.flipkart.com/search?q=vivo&otracker=search&otracker1=search&marketplace=FLIPKART&as-show=on&as=off\"+str(x)\n",
    "    \n",
    "    # STEP 2: To request the server to connect to this url\n",
    "\n",
    "    connect = get(url)\n",
    "    \n",
    "    # STEP 3: From the above connection, we will create a bs4 object which contain only text from this url page\n",
    "\n",
    "    bs4_obj = BeautifulSoup(connect.text, 'html.parser')\n",
    "    \n",
    "    # STEP 4: Using this bs4_obj lets get the access to our container\n",
    "\n",
    "    master_containers = bs4_obj.find_all('div', class_ = \"_2kHMtA\")\n",
    "    \n",
    "    # Writing second for loop to itrate in master containers of each page\n",
    "    \n",
    "    for y in master_containers:\n",
    "        \n",
    "        # Scraping the model name of all products from first 8 pages\n",
    "    \n",
    "        pro_name = y.find('div', class_ = \"_4rR01T\").text\n",
    "    \n",
    "        # Appending the model name list\n",
    "    \n",
    "        phone_name.append(pro_name)\n",
    "    \n",
    "        # Scraping the flipkart price of all products from first 8 pages\n",
    "    \n",
    "        pro_price = y.find('div', class_ = \"_30jeq3 _1_WHN1\").text\n",
    "    \n",
    "        # appending flipkart price list\n",
    "    \n",
    "        flipkart_price.append(pro_price)\n",
    "        \n",
    "        # Scraping the rating: As rating have missing value, we are replacing \n",
    "        # them by NA\n",
    "    \n",
    "        if y.find('div', class_ = \"_3LWZlK\") is not None:\n",
    "        \n",
    "            pro_rating = y.find('div', class_ = \"_3LWZlK\").text\n",
    "    \n",
    "        else:\n",
    "        \n",
    "            pro_rating = \"NA\"\n",
    "    \n",
    "        # Appending the rating list\n",
    "    \n",
    "        rating.append(pro_rating)\n",
    "        \n",
    "        # Scraping the actual price of all products from first 8 pages\n",
    "    \n",
    "        act_price = y.find('div', class_ = '_3I9_wc _27UcVY').text\n",
    "        \n",
    "        # appending actual price list\n",
    "        actual_price.append(act_price) "
   ]
  },
  {
   "cell_type": "code",
   "execution_count": 11,
   "id": "e88cd227",
   "metadata": {},
   "outputs": [
    {
     "data": {
      "text/html": [
       "<div>\n",
       "<style scoped>\n",
       "    .dataframe tbody tr th:only-of-type {\n",
       "        vertical-align: middle;\n",
       "    }\n",
       "\n",
       "    .dataframe tbody tr th {\n",
       "        vertical-align: top;\n",
       "    }\n",
       "\n",
       "    .dataframe thead th {\n",
       "        text-align: right;\n",
       "    }\n",
       "</style>\n",
       "<table border=\"1\" class=\"dataframe\">\n",
       "  <thead>\n",
       "    <tr style=\"text-align: right;\">\n",
       "      <th></th>\n",
       "      <th>Model Name</th>\n",
       "      <th>Flipkart price</th>\n",
       "      <th>Rating</th>\n",
       "      <th>Actual price</th>\n",
       "    </tr>\n",
       "  </thead>\n",
       "  <tbody>\n",
       "    <tr>\n",
       "      <th>0</th>\n",
       "      <td>vivo T2x 5G (Black Gladiator, 128 GB)</td>\n",
       "      <td>₹14,999</td>\n",
       "      <td>4.3</td>\n",
       "      <td>₹20,999</td>\n",
       "    </tr>\n",
       "    <tr>\n",
       "      <th>1</th>\n",
       "      <td>vivo T2x 5G (Marine Blue, 128 GB)</td>\n",
       "      <td>₹12,999</td>\n",
       "      <td>4.4</td>\n",
       "      <td>₹18,999</td>\n",
       "    </tr>\n",
       "    <tr>\n",
       "      <th>2</th>\n",
       "      <td>vivo T2x 5G (Black Gladiator, 128 GB)</td>\n",
       "      <td>₹12,999</td>\n",
       "      <td>4.4</td>\n",
       "      <td>₹18,999</td>\n",
       "    </tr>\n",
       "    <tr>\n",
       "      <th>3</th>\n",
       "      <td>vivo T2x 5G (Sunstone Orange, 128 GB)</td>\n",
       "      <td>₹12,999</td>\n",
       "      <td>4.4</td>\n",
       "      <td>₹18,999</td>\n",
       "    </tr>\n",
       "    <tr>\n",
       "      <th>4</th>\n",
       "      <td>vivo T2x 5G (Glimmer Black, 128 GB)</td>\n",
       "      <td>₹12,999</td>\n",
       "      <td>4.4</td>\n",
       "      <td>₹18,999</td>\n",
       "    </tr>\n",
       "    <tr>\n",
       "      <th>...</th>\n",
       "      <td>...</td>\n",
       "      <td>...</td>\n",
       "      <td>...</td>\n",
       "      <td>...</td>\n",
       "    </tr>\n",
       "    <tr>\n",
       "      <th>187</th>\n",
       "      <td>vivo T2 Pro 5G (New Moon Black, 128 GB)</td>\n",
       "      <td>₹23,999</td>\n",
       "      <td>4.5</td>\n",
       "      <td>₹26,999</td>\n",
       "    </tr>\n",
       "    <tr>\n",
       "      <th>188</th>\n",
       "      <td>vivo T2x 5G (Black Gladiator, 128 GB)</td>\n",
       "      <td>₹13,999</td>\n",
       "      <td>4.4</td>\n",
       "      <td>₹17,999</td>\n",
       "    </tr>\n",
       "    <tr>\n",
       "      <th>189</th>\n",
       "      <td>vivo T2x 5G (Sunstone Orange, 128 GB)</td>\n",
       "      <td>₹13,999</td>\n",
       "      <td>4.4</td>\n",
       "      <td>₹17,999</td>\n",
       "    </tr>\n",
       "    <tr>\n",
       "      <th>190</th>\n",
       "      <td>vivo V30 5G (Andaman Blue, 256 GB)</td>\n",
       "      <td>₹37,999</td>\n",
       "      <td>NA</td>\n",
       "      <td>₹42,999</td>\n",
       "    </tr>\n",
       "    <tr>\n",
       "      <th>191</th>\n",
       "      <td>vivo V30 5G (Peacock Green, 256 GB)</td>\n",
       "      <td>₹37,999</td>\n",
       "      <td>NA</td>\n",
       "      <td>₹42,999</td>\n",
       "    </tr>\n",
       "  </tbody>\n",
       "</table>\n",
       "<p>192 rows × 4 columns</p>\n",
       "</div>"
      ],
      "text/plain": [
       "                                  Model Name Flipkart price Rating  \\\n",
       "0      vivo T2x 5G (Black Gladiator, 128 GB)        ₹14,999    4.3   \n",
       "1          vivo T2x 5G (Marine Blue, 128 GB)        ₹12,999    4.4   \n",
       "2      vivo T2x 5G (Black Gladiator, 128 GB)        ₹12,999    4.4   \n",
       "3      vivo T2x 5G (Sunstone Orange, 128 GB)        ₹12,999    4.4   \n",
       "4        vivo T2x 5G (Glimmer Black, 128 GB)        ₹12,999    4.4   \n",
       "..                                       ...            ...    ...   \n",
       "187  vivo T2 Pro 5G (New Moon Black, 128 GB)        ₹23,999    4.5   \n",
       "188    vivo T2x 5G (Black Gladiator, 128 GB)        ₹13,999    4.4   \n",
       "189    vivo T2x 5G (Sunstone Orange, 128 GB)        ₹13,999    4.4   \n",
       "190       vivo V30 5G (Andaman Blue, 256 GB)        ₹37,999     NA   \n",
       "191      vivo V30 5G (Peacock Green, 256 GB)        ₹37,999     NA   \n",
       "\n",
       "    Actual price  \n",
       "0        ₹20,999  \n",
       "1        ₹18,999  \n",
       "2        ₹18,999  \n",
       "3        ₹18,999  \n",
       "4        ₹18,999  \n",
       "..           ...  \n",
       "187      ₹26,999  \n",
       "188      ₹17,999  \n",
       "189      ₹17,999  \n",
       "190      ₹42,999  \n",
       "191      ₹42,999  \n",
       "\n",
       "[192 rows x 4 columns]"
      ]
     },
     "execution_count": 11,
     "metadata": {},
     "output_type": "execute_result"
    }
   ],
   "source": [
    "df = pd.DataFrame({\"Model Name\": phone_name,\"Flipkart price\": flipkart_price,\"Rating\" : rating,\"Actual price\" : actual_price})\n",
    "df"
   ]
  },
  {
   "cell_type": "code",
   "execution_count": 12,
   "id": "8e470663",
   "metadata": {},
   "outputs": [
    {
     "data": {
      "text/plain": [
       "Model Name        object\n",
       "Flipkart price    object\n",
       "Rating            object\n",
       "Actual price      object\n",
       "dtype: object"
      ]
     },
     "execution_count": 12,
     "metadata": {},
     "output_type": "execute_result"
    }
   ],
   "source": [
    "df.dtypes"
   ]
  },
  {
   "cell_type": "code",
   "execution_count": 14,
   "id": "260c8048",
   "metadata": {},
   "outputs": [
    {
     "data": {
      "text/plain": [
       "Model Name        0\n",
       "Flipkart price    0\n",
       "Rating            0\n",
       "Actual price      0\n",
       "dtype: int64"
      ]
     },
     "execution_count": 14,
     "metadata": {},
     "output_type": "execute_result"
    }
   ],
   "source": [
    "df.isnull().sum()"
   ]
  },
  {
   "cell_type": "code",
   "execution_count": 15,
   "id": "270eeadd",
   "metadata": {},
   "outputs": [
    {
     "data": {
      "text/html": [
       "<div>\n",
       "<style scoped>\n",
       "    .dataframe tbody tr th:only-of-type {\n",
       "        vertical-align: middle;\n",
       "    }\n",
       "\n",
       "    .dataframe tbody tr th {\n",
       "        vertical-align: top;\n",
       "    }\n",
       "\n",
       "    .dataframe thead th {\n",
       "        text-align: right;\n",
       "    }\n",
       "</style>\n",
       "<table border=\"1\" class=\"dataframe\">\n",
       "  <thead>\n",
       "    <tr style=\"text-align: right;\">\n",
       "      <th></th>\n",
       "      <th>Model Name</th>\n",
       "      <th>Flipkart price</th>\n",
       "      <th>Rating</th>\n",
       "      <th>Actual price</th>\n",
       "    </tr>\n",
       "  </thead>\n",
       "  <tbody>\n",
       "  </tbody>\n",
       "</table>\n",
       "</div>"
      ],
      "text/plain": [
       "Empty DataFrame\n",
       "Columns: [Model Name, Flipkart price, Rating, Actual price]\n",
       "Index: []"
      ]
     },
     "execution_count": 15,
     "metadata": {},
     "output_type": "execute_result"
    }
   ],
   "source": [
    "df[df['Model Name']=='NA']"
   ]
  },
  {
   "cell_type": "code",
   "execution_count": 16,
   "id": "c50fa874",
   "metadata": {},
   "outputs": [
    {
     "data": {
      "text/html": [
       "<div>\n",
       "<style scoped>\n",
       "    .dataframe tbody tr th:only-of-type {\n",
       "        vertical-align: middle;\n",
       "    }\n",
       "\n",
       "    .dataframe tbody tr th {\n",
       "        vertical-align: top;\n",
       "    }\n",
       "\n",
       "    .dataframe thead th {\n",
       "        text-align: right;\n",
       "    }\n",
       "</style>\n",
       "<table border=\"1\" class=\"dataframe\">\n",
       "  <thead>\n",
       "    <tr style=\"text-align: right;\">\n",
       "      <th></th>\n",
       "      <th>Model Name</th>\n",
       "      <th>Flipkart price</th>\n",
       "      <th>Rating</th>\n",
       "      <th>Actual price</th>\n",
       "    </tr>\n",
       "  </thead>\n",
       "  <tbody>\n",
       "  </tbody>\n",
       "</table>\n",
       "</div>"
      ],
      "text/plain": [
       "Empty DataFrame\n",
       "Columns: [Model Name, Flipkart price, Rating, Actual price]\n",
       "Index: []"
      ]
     },
     "execution_count": 16,
     "metadata": {},
     "output_type": "execute_result"
    }
   ],
   "source": [
    "df[df['Flipkart price']=='NA']"
   ]
  },
  {
   "cell_type": "code",
   "execution_count": 17,
   "id": "b7065306",
   "metadata": {},
   "outputs": [
    {
     "data": {
      "text/html": [
       "<div>\n",
       "<style scoped>\n",
       "    .dataframe tbody tr th:only-of-type {\n",
       "        vertical-align: middle;\n",
       "    }\n",
       "\n",
       "    .dataframe tbody tr th {\n",
       "        vertical-align: top;\n",
       "    }\n",
       "\n",
       "    .dataframe thead th {\n",
       "        text-align: right;\n",
       "    }\n",
       "</style>\n",
       "<table border=\"1\" class=\"dataframe\">\n",
       "  <thead>\n",
       "    <tr style=\"text-align: right;\">\n",
       "      <th></th>\n",
       "      <th>Model Name</th>\n",
       "      <th>Flipkart price</th>\n",
       "      <th>Rating</th>\n",
       "      <th>Actual price</th>\n",
       "    </tr>\n",
       "  </thead>\n",
       "  <tbody>\n",
       "  </tbody>\n",
       "</table>\n",
       "</div>"
      ],
      "text/plain": [
       "Empty DataFrame\n",
       "Columns: [Model Name, Flipkart price, Rating, Actual price]\n",
       "Index: []"
      ]
     },
     "execution_count": 17,
     "metadata": {},
     "output_type": "execute_result"
    }
   ],
   "source": [
    "df[df['Actual price']=='NA']"
   ]
  },
  {
   "cell_type": "code",
   "execution_count": 18,
   "id": "1bdd4d4a",
   "metadata": {},
   "outputs": [
    {
     "data": {
      "text/html": [
       "<div>\n",
       "<style scoped>\n",
       "    .dataframe tbody tr th:only-of-type {\n",
       "        vertical-align: middle;\n",
       "    }\n",
       "\n",
       "    .dataframe tbody tr th {\n",
       "        vertical-align: top;\n",
       "    }\n",
       "\n",
       "    .dataframe thead th {\n",
       "        text-align: right;\n",
       "    }\n",
       "</style>\n",
       "<table border=\"1\" class=\"dataframe\">\n",
       "  <thead>\n",
       "    <tr style=\"text-align: right;\">\n",
       "      <th></th>\n",
       "      <th>Model Name</th>\n",
       "      <th>Flipkart price</th>\n",
       "      <th>Rating</th>\n",
       "      <th>Actual price</th>\n",
       "    </tr>\n",
       "  </thead>\n",
       "  <tbody>\n",
       "    <tr>\n",
       "      <th>22</th>\n",
       "      <td>vivo V30 5G (Andaman Blue, 256 GB)</td>\n",
       "      <td>37999.0</td>\n",
       "      <td>NA</td>\n",
       "      <td>42999.0</td>\n",
       "    </tr>\n",
       "    <tr>\n",
       "      <th>23</th>\n",
       "      <td>vivo V30 5G (Peacock Green, 256 GB)</td>\n",
       "      <td>37999.0</td>\n",
       "      <td>NA</td>\n",
       "      <td>42999.0</td>\n",
       "    </tr>\n",
       "    <tr>\n",
       "      <th>43</th>\n",
       "      <td>vivo V30 5G (Peacock Green, 128 GB)</td>\n",
       "      <td>33999.0</td>\n",
       "      <td>NA</td>\n",
       "      <td>38999.0</td>\n",
       "    </tr>\n",
       "    <tr>\n",
       "      <th>44</th>\n",
       "      <td>vivo V30 Pro 5G (Andaman Blue, 256 GB)</td>\n",
       "      <td>41999.0</td>\n",
       "      <td>NA</td>\n",
       "      <td>46999.0</td>\n",
       "    </tr>\n",
       "    <tr>\n",
       "      <th>70</th>\n",
       "      <td>vivo V30 5G (Andaman Blue, 256 GB)</td>\n",
       "      <td>37999.0</td>\n",
       "      <td>NA</td>\n",
       "      <td>42999.0</td>\n",
       "    </tr>\n",
       "    <tr>\n",
       "      <th>71</th>\n",
       "      <td>vivo V30 5G (Peacock Green, 256 GB)</td>\n",
       "      <td>37999.0</td>\n",
       "      <td>NA</td>\n",
       "      <td>42999.0</td>\n",
       "    </tr>\n",
       "    <tr>\n",
       "      <th>94</th>\n",
       "      <td>vivo V30 5G (Peacock Green, 128 GB)</td>\n",
       "      <td>33999.0</td>\n",
       "      <td>NA</td>\n",
       "      <td>38999.0</td>\n",
       "    </tr>\n",
       "    <tr>\n",
       "      <th>95</th>\n",
       "      <td>vivo V30 Pro 5G (Andaman Blue, 256 GB)</td>\n",
       "      <td>41999.0</td>\n",
       "      <td>NA</td>\n",
       "      <td>46999.0</td>\n",
       "    </tr>\n",
       "    <tr>\n",
       "      <th>118</th>\n",
       "      <td>vivo V30 5G (Peacock Green, 128 GB)</td>\n",
       "      <td>33999.0</td>\n",
       "      <td>NA</td>\n",
       "      <td>38999.0</td>\n",
       "    </tr>\n",
       "    <tr>\n",
       "      <th>119</th>\n",
       "      <td>vivo V30 Pro 5G (Andaman Blue, 256 GB)</td>\n",
       "      <td>41999.0</td>\n",
       "      <td>NA</td>\n",
       "      <td>46999.0</td>\n",
       "    </tr>\n",
       "    <tr>\n",
       "      <th>142</th>\n",
       "      <td>vivo V30 5G (Andaman Blue, 256 GB)</td>\n",
       "      <td>37999.0</td>\n",
       "      <td>NA</td>\n",
       "      <td>42999.0</td>\n",
       "    </tr>\n",
       "    <tr>\n",
       "      <th>143</th>\n",
       "      <td>vivo V30 5G (Peacock Green, 256 GB)</td>\n",
       "      <td>37999.0</td>\n",
       "      <td>NA</td>\n",
       "      <td>42999.0</td>\n",
       "    </tr>\n",
       "    <tr>\n",
       "      <th>166</th>\n",
       "      <td>vivo V30 5G (Peacock Green, 128 GB)</td>\n",
       "      <td>33999.0</td>\n",
       "      <td>NA</td>\n",
       "      <td>38999.0</td>\n",
       "    </tr>\n",
       "    <tr>\n",
       "      <th>167</th>\n",
       "      <td>vivo V30 Pro 5G (Andaman Blue, 256 GB)</td>\n",
       "      <td>41999.0</td>\n",
       "      <td>NA</td>\n",
       "      <td>46999.0</td>\n",
       "    </tr>\n",
       "    <tr>\n",
       "      <th>190</th>\n",
       "      <td>vivo V30 5G (Andaman Blue, 256 GB)</td>\n",
       "      <td>37999.0</td>\n",
       "      <td>NA</td>\n",
       "      <td>42999.0</td>\n",
       "    </tr>\n",
       "    <tr>\n",
       "      <th>191</th>\n",
       "      <td>vivo V30 5G (Peacock Green, 256 GB)</td>\n",
       "      <td>37999.0</td>\n",
       "      <td>NA</td>\n",
       "      <td>42999.0</td>\n",
       "    </tr>\n",
       "  </tbody>\n",
       "</table>\n",
       "</div>"
      ],
      "text/plain": [
       "                                 Model Name  Flipkart price Rating  \\\n",
       "22       vivo V30 5G (Andaman Blue, 256 GB)         37999.0     NA   \n",
       "23      vivo V30 5G (Peacock Green, 256 GB)         37999.0     NA   \n",
       "43      vivo V30 5G (Peacock Green, 128 GB)         33999.0     NA   \n",
       "44   vivo V30 Pro 5G (Andaman Blue, 256 GB)         41999.0     NA   \n",
       "70       vivo V30 5G (Andaman Blue, 256 GB)         37999.0     NA   \n",
       "71      vivo V30 5G (Peacock Green, 256 GB)         37999.0     NA   \n",
       "94      vivo V30 5G (Peacock Green, 128 GB)         33999.0     NA   \n",
       "95   vivo V30 Pro 5G (Andaman Blue, 256 GB)         41999.0     NA   \n",
       "118     vivo V30 5G (Peacock Green, 128 GB)         33999.0     NA   \n",
       "119  vivo V30 Pro 5G (Andaman Blue, 256 GB)         41999.0     NA   \n",
       "142      vivo V30 5G (Andaman Blue, 256 GB)         37999.0     NA   \n",
       "143     vivo V30 5G (Peacock Green, 256 GB)         37999.0     NA   \n",
       "166     vivo V30 5G (Peacock Green, 128 GB)         33999.0     NA   \n",
       "167  vivo V30 Pro 5G (Andaman Blue, 256 GB)         41999.0     NA   \n",
       "190      vivo V30 5G (Andaman Blue, 256 GB)         37999.0     NA   \n",
       "191     vivo V30 5G (Peacock Green, 256 GB)         37999.0     NA   \n",
       "\n",
       "     Actual price  \n",
       "22        42999.0  \n",
       "23        42999.0  \n",
       "43        38999.0  \n",
       "44        46999.0  \n",
       "70        42999.0  \n",
       "71        42999.0  \n",
       "94        38999.0  \n",
       "95        46999.0  \n",
       "118       38999.0  \n",
       "119       46999.0  \n",
       "142       42999.0  \n",
       "143       42999.0  \n",
       "166       38999.0  \n",
       "167       46999.0  \n",
       "190       42999.0  \n",
       "191       42999.0  "
      ]
     },
     "execution_count": 18,
     "metadata": {},
     "output_type": "execute_result"
    }
   ],
   "source": [
    "df[df['Rating']=='NA']"
   ]
  },
  {
   "cell_type": "code",
   "execution_count": 19,
   "id": "238d0e3b",
   "metadata": {},
   "outputs": [
    {
     "data": {
      "text/plain": [
       "4.4    93\n",
       "4.3    50\n",
       "4.5    32\n",
       "NA     16\n",
       "4.2     1\n",
       "Name: Rating, dtype: int64"
      ]
     },
     "execution_count": 19,
     "metadata": {},
     "output_type": "execute_result"
    }
   ],
   "source": [
    "df['Rating'].value_counts()"
   ]
  },
  {
   "cell_type": "code",
   "execution_count": 20,
   "id": "cb8e255b",
   "metadata": {},
   "outputs": [],
   "source": [
    "# Replacing string NA with NaN or null values\n",
    "df['Rating'].replace('NA', pd.NA, inplace=True)"
   ]
  },
  {
   "cell_type": "code",
   "execution_count": 21,
   "id": "752f0ea0",
   "metadata": {},
   "outputs": [],
   "source": [
    "# Drop rows with NaN values in the 'Rating' column\n",
    "df = df.dropna(subset=['Rating'])"
   ]
  },
  {
   "cell_type": "code",
   "execution_count": 22,
   "id": "32965cda",
   "metadata": {},
   "outputs": [],
   "source": [
    "# # Convert categorical data from columns to numerical\n",
    "\n",
    "df['Flipkart price'] = df['Flipkart price'].str.replace('₹', '').str.replace(',', '').astype(float)\n",
    "df['Actual price'] = df['Actual price'].str.replace('₹', '').str.replace(',', '').astype(float)\n",
    "df['Rating'] = df['Rating'].astype(float)"
   ]
  },
  {
   "cell_type": "markdown",
   "id": "8d5c1998",
   "metadata": {},
   "source": [
    "# Which model have highest discount?\n",
    "\n",
    "--> vivo T2 5G"
   ]
  },
  {
   "cell_type": "code",
   "execution_count": 23,
   "id": "ff78ffa1",
   "metadata": {},
   "outputs": [],
   "source": [
    "df['Discount']=df['Actual price'] - df['Flipkart price']"
   ]
  },
  {
   "cell_type": "code",
   "execution_count": 24,
   "id": "43e53ac6",
   "metadata": {},
   "outputs": [
    {
     "data": {
      "text/html": [
       "<div>\n",
       "<style scoped>\n",
       "    .dataframe tbody tr th:only-of-type {\n",
       "        vertical-align: middle;\n",
       "    }\n",
       "\n",
       "    .dataframe tbody tr th {\n",
       "        vertical-align: top;\n",
       "    }\n",
       "\n",
       "    .dataframe thead th {\n",
       "        text-align: right;\n",
       "    }\n",
       "</style>\n",
       "<table border=\"1\" class=\"dataframe\">\n",
       "  <thead>\n",
       "    <tr style=\"text-align: right;\">\n",
       "      <th></th>\n",
       "      <th>Model Name</th>\n",
       "      <th>Flipkart price</th>\n",
       "      <th>Rating</th>\n",
       "      <th>Actual price</th>\n",
       "      <th>Discount</th>\n",
       "    </tr>\n",
       "  </thead>\n",
       "  <tbody>\n",
       "    <tr>\n",
       "      <th>0</th>\n",
       "      <td>vivo T2x 5G (Black Gladiator, 128 GB)</td>\n",
       "      <td>14999.0</td>\n",
       "      <td>4.3</td>\n",
       "      <td>20999.0</td>\n",
       "      <td>6000.0</td>\n",
       "    </tr>\n",
       "    <tr>\n",
       "      <th>1</th>\n",
       "      <td>vivo T2x 5G (Marine Blue, 128 GB)</td>\n",
       "      <td>12999.0</td>\n",
       "      <td>4.4</td>\n",
       "      <td>18999.0</td>\n",
       "      <td>6000.0</td>\n",
       "    </tr>\n",
       "    <tr>\n",
       "      <th>2</th>\n",
       "      <td>vivo T2x 5G (Black Gladiator, 128 GB)</td>\n",
       "      <td>12999.0</td>\n",
       "      <td>4.4</td>\n",
       "      <td>18999.0</td>\n",
       "      <td>6000.0</td>\n",
       "    </tr>\n",
       "    <tr>\n",
       "      <th>3</th>\n",
       "      <td>vivo T2x 5G (Sunstone Orange, 128 GB)</td>\n",
       "      <td>12999.0</td>\n",
       "      <td>4.4</td>\n",
       "      <td>18999.0</td>\n",
       "      <td>6000.0</td>\n",
       "    </tr>\n",
       "    <tr>\n",
       "      <th>4</th>\n",
       "      <td>vivo T2x 5G (Glimmer Black, 128 GB)</td>\n",
       "      <td>12999.0</td>\n",
       "      <td>4.4</td>\n",
       "      <td>18999.0</td>\n",
       "      <td>6000.0</td>\n",
       "    </tr>\n",
       "    <tr>\n",
       "      <th>...</th>\n",
       "      <td>...</td>\n",
       "      <td>...</td>\n",
       "      <td>...</td>\n",
       "      <td>...</td>\n",
       "      <td>...</td>\n",
       "    </tr>\n",
       "    <tr>\n",
       "      <th>185</th>\n",
       "      <td>vivo T2 Pro 5G (New Moon Black, 256 GB)</td>\n",
       "      <td>24999.0</td>\n",
       "      <td>4.5</td>\n",
       "      <td>27999.0</td>\n",
       "      <td>3000.0</td>\n",
       "    </tr>\n",
       "    <tr>\n",
       "      <th>186</th>\n",
       "      <td>vivo T2 Pro 5G (Dune Gold, 256 GB)</td>\n",
       "      <td>24999.0</td>\n",
       "      <td>4.5</td>\n",
       "      <td>27999.0</td>\n",
       "      <td>3000.0</td>\n",
       "    </tr>\n",
       "    <tr>\n",
       "      <th>187</th>\n",
       "      <td>vivo T2 Pro 5G (New Moon Black, 128 GB)</td>\n",
       "      <td>23999.0</td>\n",
       "      <td>4.5</td>\n",
       "      <td>26999.0</td>\n",
       "      <td>3000.0</td>\n",
       "    </tr>\n",
       "    <tr>\n",
       "      <th>188</th>\n",
       "      <td>vivo T2x 5G (Black Gladiator, 128 GB)</td>\n",
       "      <td>13999.0</td>\n",
       "      <td>4.4</td>\n",
       "      <td>17999.0</td>\n",
       "      <td>4000.0</td>\n",
       "    </tr>\n",
       "    <tr>\n",
       "      <th>189</th>\n",
       "      <td>vivo T2x 5G (Sunstone Orange, 128 GB)</td>\n",
       "      <td>13999.0</td>\n",
       "      <td>4.4</td>\n",
       "      <td>17999.0</td>\n",
       "      <td>4000.0</td>\n",
       "    </tr>\n",
       "  </tbody>\n",
       "</table>\n",
       "<p>176 rows × 5 columns</p>\n",
       "</div>"
      ],
      "text/plain": [
       "                                  Model Name  Flipkart price  Rating  \\\n",
       "0      vivo T2x 5G (Black Gladiator, 128 GB)         14999.0     4.3   \n",
       "1          vivo T2x 5G (Marine Blue, 128 GB)         12999.0     4.4   \n",
       "2      vivo T2x 5G (Black Gladiator, 128 GB)         12999.0     4.4   \n",
       "3      vivo T2x 5G (Sunstone Orange, 128 GB)         12999.0     4.4   \n",
       "4        vivo T2x 5G (Glimmer Black, 128 GB)         12999.0     4.4   \n",
       "..                                       ...             ...     ...   \n",
       "185  vivo T2 Pro 5G (New Moon Black, 256 GB)         24999.0     4.5   \n",
       "186       vivo T2 Pro 5G (Dune Gold, 256 GB)         24999.0     4.5   \n",
       "187  vivo T2 Pro 5G (New Moon Black, 128 GB)         23999.0     4.5   \n",
       "188    vivo T2x 5G (Black Gladiator, 128 GB)         13999.0     4.4   \n",
       "189    vivo T2x 5G (Sunstone Orange, 128 GB)         13999.0     4.4   \n",
       "\n",
       "     Actual price  Discount  \n",
       "0         20999.0    6000.0  \n",
       "1         18999.0    6000.0  \n",
       "2         18999.0    6000.0  \n",
       "3         18999.0    6000.0  \n",
       "4         18999.0    6000.0  \n",
       "..            ...       ...  \n",
       "185       27999.0    3000.0  \n",
       "186       27999.0    3000.0  \n",
       "187       26999.0    3000.0  \n",
       "188       17999.0    4000.0  \n",
       "189       17999.0    4000.0  \n",
       "\n",
       "[176 rows x 5 columns]"
      ]
     },
     "execution_count": 24,
     "metadata": {},
     "output_type": "execute_result"
    }
   ],
   "source": [
    "df"
   ]
  },
  {
   "cell_type": "code",
   "execution_count": 25,
   "id": "961b23aa",
   "metadata": {},
   "outputs": [
    {
     "data": {
      "text/plain": [
       "Model Name        vivo T2 5G (Velocity Wave, 128 GB)\n",
       "Flipkart price                               15999.0\n",
       "Rating                                           4.4\n",
       "Actual price                                 23999.0\n",
       "Discount                                      8000.0\n",
       "Name: 13, dtype: object"
      ]
     },
     "execution_count": 25,
     "metadata": {},
     "output_type": "execute_result"
    }
   ],
   "source": [
    "df.loc[df['Discount'].idxmax()]"
   ]
  },
  {
   "cell_type": "markdown",
   "id": "7484f3ac",
   "metadata": {},
   "source": [
    "# What is the average price of vivo mobiles with 10000 INR and above?\n",
    "\n",
    "--> Actual price = 21629.54;\n",
    "    Flipkart price = 16207.09"
   ]
  },
  {
   "cell_type": "code",
   "execution_count": 26,
   "id": "91652a6d",
   "metadata": {},
   "outputs": [
    {
     "data": {
      "text/plain": [
       "21629.545454545456"
      ]
     },
     "execution_count": 26,
     "metadata": {},
     "output_type": "execute_result"
    }
   ],
   "source": [
    "df[df['Actual price']>=10000]['Actual price'].mean()"
   ]
  },
  {
   "cell_type": "code",
   "execution_count": 27,
   "id": "561d5514",
   "metadata": {},
   "outputs": [
    {
     "data": {
      "text/plain": [
       "Flipkart price    16097.085227\n",
       "Rating                4.388636\n",
       "Actual price      21629.545455\n",
       "Discount           5532.460227\n",
       "dtype: float64"
      ]
     },
     "execution_count": 27,
     "metadata": {},
     "output_type": "execute_result"
    }
   ],
   "source": [
    "df[df['Actual price']>=10000].mean()"
   ]
  },
  {
   "cell_type": "code",
   "execution_count": 28,
   "id": "4c641c61",
   "metadata": {},
   "outputs": [
    {
     "data": {
      "text/plain": [
       "16207.092485549132"
      ]
     },
     "execution_count": 28,
     "metadata": {},
     "output_type": "execute_result"
    }
   ],
   "source": [
    "df[df['Flipkart price'] >= 10000]['Flipkart price'].mean()"
   ]
  },
  {
   "cell_type": "code",
   "execution_count": 29,
   "id": "b5139170",
   "metadata": {},
   "outputs": [
    {
     "data": {
      "text/plain": [
       "Flipkart price    16207.092486\n",
       "Rating                4.390751\n",
       "Actual price      21738.884393\n",
       "Discount           5531.791908\n",
       "dtype: float64"
      ]
     },
     "execution_count": 29,
     "metadata": {},
     "output_type": "execute_result"
    }
   ],
   "source": [
    "df[df['Flipkart price'] >= 10000].mean()"
   ]
  },
  {
   "cell_type": "markdown",
   "id": "76161c94",
   "metadata": {},
   "source": [
    "# What is the average rating for vivo mobile of below 10000 INR and above 10000 INR?\n",
    "\n",
    "--> Actual price ( > = 4.38, < no data); \n",
    "    Flipkart price ( > =4.39, < 4.26)"
   ]
  },
  {
   "cell_type": "code",
   "execution_count": 30,
   "id": "ee82a989",
   "metadata": {},
   "outputs": [
    {
     "data": {
      "text/plain": [
       "Flipkart price    16097.085227\n",
       "Rating                4.388636\n",
       "Actual price      21629.545455\n",
       "Discount           5532.460227\n",
       "dtype: float64"
      ]
     },
     "execution_count": 30,
     "metadata": {},
     "output_type": "execute_result"
    }
   ],
   "source": [
    "df[(df['Actual price'] > 10000)].mean()"
   ]
  },
  {
   "cell_type": "code",
   "execution_count": 31,
   "id": "033e3b39",
   "metadata": {},
   "outputs": [
    {
     "data": {
      "text/plain": [
       "Model Name        NaN\n",
       "Flipkart price    NaN\n",
       "Rating            NaN\n",
       "Actual price      NaN\n",
       "Discount          NaN\n",
       "dtype: object"
      ]
     },
     "execution_count": 31,
     "metadata": {},
     "output_type": "execute_result"
    }
   ],
   "source": [
    "df[(df['Actual price'] < 10000)].mean()"
   ]
  },
  {
   "cell_type": "code",
   "execution_count": 32,
   "id": "ba81d8d9",
   "metadata": {},
   "outputs": [
    {
     "data": {
      "text/plain": [
       "Flipkart price    16207.092486\n",
       "Rating                4.390751\n",
       "Actual price      21738.884393\n",
       "Discount           5531.791908\n",
       "dtype: float64"
      ]
     },
     "execution_count": 32,
     "metadata": {},
     "output_type": "execute_result"
    }
   ],
   "source": [
    "df[(df['Flipkart price'] > 10000)].mean()"
   ]
  },
  {
   "cell_type": "code",
   "execution_count": 33,
   "id": "0006b604",
   "metadata": {},
   "outputs": [
    {
     "data": {
      "text/plain": [
       "Flipkart price     9753.333333\n",
       "Rating                4.266667\n",
       "Actual price      15324.333333\n",
       "Discount           5571.000000\n",
       "dtype: float64"
      ]
     },
     "execution_count": 33,
     "metadata": {},
     "output_type": "execute_result"
    }
   ],
   "source": [
    "df[(df['Flipkart price'] < 10000)].mean()"
   ]
  },
  {
   "cell_type": "code",
   "execution_count": 35,
   "id": "2e1410da",
   "metadata": {},
   "outputs": [],
   "source": [
    "df.to_csv('vivo.csv',index=False)"
   ]
  }
 ],
 "metadata": {
  "kernelspec": {
   "display_name": "Python 3 (ipykernel)",
   "language": "python",
   "name": "python3"
  },
  "language_info": {
   "codemirror_mode": {
    "name": "ipython",
    "version": 3
   },
   "file_extension": ".py",
   "mimetype": "text/x-python",
   "name": "python",
   "nbconvert_exporter": "python",
   "pygments_lexer": "ipython3",
   "version": "3.11.7"
  }
 },
 "nbformat": 4,
 "nbformat_minor": 5
}
